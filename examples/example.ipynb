{
 "cells": [
  {
   "source": [
    "# Using learn_mof_ox"
   ],
   "cell_type": "markdown",
   "metadata": {}
  },
  {
   "source": [
    "The `learn_mof_ox` package contains tools to train machine learning models, in particular voting classifiers, to predict the oxidation states of MOFs. "
   ],
   "cell_type": "markdown",
   "metadata": {}
  },
  {
   "cell_type": "markdown",
   "metadata": {},
   "source": [
    "This example shows how to use a pre-pretained model to make predictions."
   ]
  },
  {
   "cell_type": "code",
   "execution_count": 1,
   "metadata": {},
   "outputs": [],
   "source": [
    "from joblib import load"
   ]
  },
  {
   "cell_type": "markdown",
   "metadata": {},
   "source": [
    "Load the models and scaler"
   ]
  },
  {
   "cell_type": "code",
   "execution_count": 2,
   "metadata": {},
   "outputs": [],
   "source": [
    "from learnmofox import utils \n",
    "import sys\n",
    "sys.modules['utils'] = utils\n",
    "\n",
    "model  = load('votingclassifier_patched.joblib')\n",
    "scaler = load('scaler_0.joblib')"
   ]
  },
  {
   "cell_type": "markdown",
   "metadata": {},
   "source": []
  },
  {
   "cell_type": "markdown",
   "metadata": {},
   "source": [
    "Load a features dictionary"
   ]
  },
  {
   "cell_type": "code",
   "execution_count": 3,
   "metadata": {},
   "outputs": [],
   "source": [
    "import pickle\n",
    "\n",
    "with open('features.pkl', 'rb') as fh:\n",
    "    features_dict = pickle.load(fh)"
   ]
  },
  {
   "cell_type": "markdown",
   "metadata": {},
   "source": [
    "Make some predictions by looping over the feature dictionary."
   ]
  },
  {
   "cell_type": "code",
   "execution_count": 4,
   "metadata": {
    "tags": []
   },
   "outputs": [
    {
     "output_type": "stream",
     "name": "stdout",
     "text": [
      "Predicted [2 2] for ACODAA\n",
      "Predicted [2 2] for BaO2_mp-1105_computed\n",
      "Predicted [4 4] for SnO2_mp-856_computed\n",
      "Predicted [1 1 1 1 1 1 1 1 2 2 2 2 2 2 2 2] for KAJZIH_freeONLY\n",
      "Predicted [2 2] for SnO_mp-2097_computed\n",
      "Predicted [2 2 2 2] for BaO_mp-1342_computed\n"
     ]
    }
   ],
   "source": [
    "for k in features_dict.keys():\n",
    "    X = scaler.transform(features_dict[k])\n",
    "    prediction = model.predict(X)\n",
    "    print('Predicted {} for {}'.format(prediction, k))"
   ]
  },
  {
   "cell_type": "code",
   "execution_count": null,
   "metadata": {},
   "outputs": [],
   "source": []
  }
 ],
 "metadata": {
  "kernelspec": {
   "name": "python3",
   "display_name": "Python 3.7.6 64-bit ('ml': conda)",
   "metadata": {
    "interpreter": {
     "hash": "d7cfd257130d75d8e941803c54b1b56423c173ecc8f9c3b7d2f32842e6707016"
    }
   }
  },
  "language_info": {
   "codemirror_mode": {
    "name": "ipython",
    "version": 3
   },
   "file_extension": ".py",
   "mimetype": "text/x-python",
   "name": "python",
   "nbconvert_exporter": "python",
   "pygments_lexer": "ipython3",
   "version": "3.7.6-final"
  }
 },
 "nbformat": 4,
 "nbformat_minor": 2
}
