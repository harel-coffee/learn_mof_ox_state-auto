{
 "cells": [
  {
   "cell_type": "markdown",
   "metadata": {},
   "source": [
    "This example shows how to use a pre-pretained model to make predictions."
   ]
  },
  {
   "cell_type": "code",
   "execution_count": 1,
   "metadata": {},
   "outputs": [],
   "source": [
    "from joblib import load"
   ]
  },
  {
   "cell_type": "markdown",
   "metadata": {},
   "source": [
    "Download pretrained model "
   ]
  },
  {
   "cell_type": "markdown",
   "metadata": {},
   "source": [
    "Load the models and scaler"
   ]
  },
  {
   "cell_type": "code",
   "execution_count": 2,
   "metadata": {},
   "outputs": [],
   "source": [
    "from learnmofox import utils \n",
    "import sys\n",
    "sys.modules['utils'] = utils\n",
    "\n",
    "model  = load('votingclassifier_patched.joblib')\n",
    "scaler = load('scaler_0.joblib')"
   ]
  },
  {
   "cell_type": "markdown",
   "metadata": {},
   "source": []
  },
  {
   "cell_type": "markdown",
   "metadata": {},
   "source": [
    "Load a features dictionary"
   ]
  },
  {
   "cell_type": "code",
   "execution_count": 3,
   "metadata": {},
   "outputs": [],
   "source": [
    "import pickle\n",
    "\n",
    "with open('features.pkl', 'rb') as fh:\n",
    "    features_dict = pickle.load(fh)"
   ]
  },
  {
   "cell_type": "markdown",
   "metadata": {},
   "source": [
    "Make some predictions by looping over the feature dictionary."
   ]
  },
  {
   "cell_type": "code",
   "execution_count": 4,
   "metadata": {
    "tags": []
   },
   "outputs": [
    {
     "output_type": "stream",
     "name": "stdout",
     "text": "Predicted [2 2] for ACODAA\nPredicted [2 2] for BaO2_mp-1105_computed\nPredicted [4 4] for SnO2_mp-856_computed\nPredicted [1 1 1 1 1 1 1 1 2 2 2 2 2 2 2 2] for KAJZIH_freeONLY\nPredicted [2 2] for SnO_mp-2097_computed\nPredicted [2 2 2 2] for BaO_mp-1342_computed\n"
    }
   ],
   "source": [
    "for k in features_dict.keys():\n",
    "    X = scaler.transform(features_dict[k])\n",
    "    prediction = model.predict(X)\n",
    "    print('Predicted {} for {}'.format(prediction, k))"
   ]
  }
 ],
 "metadata": {
  "kernelspec": {
   "display_name": "Python 3.7.6 64-bit ('ml': conda)",
   "language": "python",
   "name": "python_defaultSpec_1596191409404"
  },
  "language_info": {
   "codemirror_mode": {
    "name": "ipython",
    "version": 3
   },
   "file_extension": ".py",
   "mimetype": "text/x-python",
   "name": "python",
   "nbconvert_exporter": "python",
   "pygments_lexer": "ipython3",
   "version": "3.7.4"
  }
 },
 "nbformat": 4,
 "nbformat_minor": 2
}
