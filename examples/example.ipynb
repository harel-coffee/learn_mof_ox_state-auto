{
 "cells": [
  {
   "cell_type": "markdown",
   "metadata": {},
   "source": [
    "This example shows how to use a pre-pretained model to make predictions."
   ]
  },
  {
   "cell_type": "code",
   "execution_count": 18,
   "metadata": {},
   "outputs": [],
   "source": [
    "import pandas as pd\n",
    "from joblib import load\n",
    "import numpy as np"
   ]
  },
  {
   "cell_type": "markdown",
   "metadata": {},
   "source": [
    "Download pretrained model "
   ]
  },
  {
   "cell_type": "code",
   "execution_count": 7,
   "metadata": {},
   "outputs": [
    {
     "name": "stdout",
     "output_type": "stream",
     "text": [
      "--2020-01-10 11:22:53--  https://github.com/kjappelbaum/oximachinetool/raw/master/oximachine/compute/scaler_0.joblib\n",
      "Resolving github.com (github.com)... 140.82.118.3\n",
      "Connecting to github.com (github.com)|140.82.118.3|:443... connected.\n",
      "HTTP request sent, awaiting response... 302 Found\n",
      "Location: https://raw.githubusercontent.com/kjappelbaum/oximachinetool/master/oximachine/compute/scaler_0.joblib [following]\n",
      "--2020-01-10 11:22:54--  https://raw.githubusercontent.com/kjappelbaum/oximachinetool/master/oximachine/compute/scaler_0.joblib\n",
      "Resolving raw.githubusercontent.com (raw.githubusercontent.com)... 151.101.36.133\n",
      "Connecting to raw.githubusercontent.com (raw.githubusercontent.com)|151.101.36.133|:443... connected.\n",
      "HTTP request sent, awaiting response... 200 OK\n",
      "Length: 3358 (3.3K) [application/octet-stream]\n",
      "Saving to: ‘scaler_0.joblib’\n",
      "\n",
      "scaler_0.joblib     100%[===================>]   3.28K  --.-KB/s    in 0s      \n",
      "\n",
      "2020-01-10 11:22:54 (21.1 MB/s) - ‘scaler_0.joblib’ saved [3358/3358]\n",
      "\n"
     ]
    }
   ],
   "source": [
    "! wget https://github.com/kjappelbaum/oximachinetool/raw/master/oximachine/compute/scaler_0.joblib"
   ]
  },
  {
   "cell_type": "code",
   "execution_count": 8,
   "metadata": {},
   "outputs": [
    {
     "name": "stdout",
     "output_type": "stream",
     "text": [
      "--2020-01-10 11:22:59--  https://github.com/kjappelbaum/oximachinetool/raw/master/oximachine/compute/votingclassifier.joblib\n",
      "Resolving github.com (github.com)... 140.82.118.3\n",
      "Connecting to github.com (github.com)|140.82.118.3|:443... connected.\n",
      "HTTP request sent, awaiting response... 302 Found\n",
      "Location: https://raw.githubusercontent.com/kjappelbaum/oximachinetool/master/oximachine/compute/votingclassifier.joblib [following]\n",
      "--2020-01-10 11:23:00--  https://raw.githubusercontent.com/kjappelbaum/oximachinetool/master/oximachine/compute/votingclassifier.joblib\n",
      "Resolving raw.githubusercontent.com (raw.githubusercontent.com)... 151.101.36.133\n",
      "Connecting to raw.githubusercontent.com (raw.githubusercontent.com)|151.101.36.133|:443... connected.\n",
      "HTTP request sent, awaiting response... 200 OK\n",
      "Length: 85134369 (81M) [application/octet-stream]\n",
      "Saving to: ‘votingclassifier.joblib’\n",
      "\n",
      "votingclassifier.jo 100%[===================>]  81.19M  16.0MB/s    in 5.1s    \n",
      "\n",
      "2020-01-10 11:23:07 (15.9 MB/s) - ‘votingclassifier.joblib’ saved [85134369/85134369]\n",
      "\n"
     ]
    }
   ],
   "source": [
    "! wget https://github.com/kjappelbaum/oximachinetool/raw/master/oximachine/compute/votingclassifier.joblib"
   ]
  },
  {
   "cell_type": "markdown",
   "metadata": {},
   "source": [
    "Load the models and scaler"
   ]
  },
  {
   "cell_type": "code",
   "execution_count": 20,
   "metadata": {},
   "outputs": [],
   "source": [
    "from learnmofox import utils \n",
    "import sys\n",
    "sys.modules['utils'] = utils\n",
    "\n",
    "model  = load('votingclassifier.joblib')\n",
    "scaler = load('scaler_0.joblib')"
   ]
  },
  {
   "cell_type": "markdown",
   "metadata": {},
   "source": [
    "Load a features dictionary"
   ]
  },
  {
   "cell_type": "code",
   "execution_count": 15,
   "metadata": {},
   "outputs": [],
   "source": [
    "import pickle\n",
    "\n",
    "with open('features.pkl', 'rb') as fh:\n",
    "    features_dict = pickle.load(fh)"
   ]
  },
  {
   "cell_type": "markdown",
   "metadata": {},
   "source": [
    "Make some predictions by looping over the feature dictionary."
   ]
  },
  {
   "cell_type": "code",
   "execution_count": 21,
   "metadata": {},
   "outputs": [
    {
     "name": "stdout",
     "output_type": "stream",
     "text": [
      "Predicted [2 2] for ACODAA\n",
      "Predicted [2 2] for BaO2_mp-1105_computed\n",
      "Predicted [4 4] for SnO2_mp-856_computed\n",
      "Predicted [1 1 1 1 1 1 1 1 2 2 2 2 2 2 2 2] for KAJZIH_freeONLY\n",
      "Predicted [2 2] for SnO_mp-2097_computed\n",
      "Predicted [2 2 2 2] for BaO_mp-1342_computed\n"
     ]
    },
    {
     "name": "stderr",
     "output_type": "stream",
     "text": [
      "/Users/kevinmaikjablonka/anaconda3/envs/ml/lib/python3.7/site-packages/sklearn/calibration.py:392: RuntimeWarning: invalid value encountered in true_divide\n",
      "  proba /= np.sum(proba, axis=1)[:, np.newaxis]\n"
     ]
    }
   ],
   "source": [
    "for k in features_dict.keys():\n",
    "    X = scaler.transform(features_dict[k])\n",
    "    prediction = model.predict(X)\n",
    "    print('Predicted {} for {}'.format(prediction, k))"
   ]
  }
 ],
 "metadata": {
  "kernelspec": {
   "display_name": "Python [conda env:ml] *",
   "language": "python",
   "name": "conda-env-ml-py"
  },
  "language_info": {
   "codemirror_mode": {
    "name": "ipython",
    "version": 3
   },
   "file_extension": ".py",
   "mimetype": "text/x-python",
   "name": "python",
   "nbconvert_exporter": "python",
   "pygments_lexer": "ipython3",
   "version": "3.7.4"
  }
 },
 "nbformat": 4,
 "nbformat_minor": 2
}
