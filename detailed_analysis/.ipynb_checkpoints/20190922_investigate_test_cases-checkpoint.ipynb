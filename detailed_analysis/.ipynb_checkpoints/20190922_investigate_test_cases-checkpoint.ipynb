{
 "cells": [
  {
   "cell_type": "markdown",
   "metadata": {},
   "source": [
    "#  Featurizing special test structures and evaluating the model predictions on them in more detail"
   ]
  },
  {
   "cell_type": "markdown",
   "metadata": {},
   "source": [
    "## Import packages"
   ]
  },
  {
   "cell_type": "code",
   "execution_count": 1,
   "metadata": {},
   "outputs": [
    {
     "name": "stderr",
     "output_type": "stream",
     "text": [
      "__init__.py: CACHEDIR=/home/kevin/.cache/matplotlib\n",
      "font_manager.py: Using fontManager instance from /home/kevin/.cache/matplotlib/fontlist-v310.json\n",
      "pyplot.py: Loaded backend module://ipykernel.pylab.backend_inline version unknown.\n",
      "pyplot.py: Loaded backend module://ipykernel.pylab.backend_inline version unknown.\n",
      "pyplot.py: Loaded backend module://ipykernel.pylab.backend_inline version unknown.\n"
     ]
    }
   ],
   "source": [
    "import pandas as pd \n",
    "from glob import glob\n",
    "import os \n",
    "from pathlib import Path\n",
    "\n",
    "# own packages\n",
    "from mine_mof_oxstate.featurize import GetFeatures, FeatureCollector\n",
    "\n",
    "# plotting\n",
    "import matplotlib.pyplot as plt\n",
    "%matplotlib inline\n",
    "import seaborn as sns\n",
    "\n",
    "\n",
    "# ml\n",
    "from joblib import dump, load"
   ]
  },
  {
   "cell_type": "markdown",
   "metadata": {},
   "source": [
    "## Calculate Features"
   ]
  },
  {
   "cell_type": "markdown",
   "metadata": {},
   "source": [
    "Identically to what we did for all structures before we will first calculate all features and save them in pickle files."
   ]
  },
  {
   "cell_type": "code",
   "execution_count": 2,
   "metadata": {},
   "outputs": [],
   "source": [
    "special_test_structures = glob('/home/kevin/Dropbox (LSMO)/proj62_guess_oxidation_states/test_structures/*/*.cif')"
   ]
  },
  {
   "cell_type": "code",
   "execution_count": null,
   "metadata": {},
   "outputs": [
    {
     "name": "stderr",
     "output_type": "stream",
     "text": [
      "/home/kevin/anaconda3/envs/ml/lib/python3.7/site-packages/pymatgen/analysis/local_env.py:3467: UserWarning:\n",
      "\n",
      "CrystalNN: distance cutoffs set but no oxidation states specified on sites! For better results, set the site oxidation states in the structure.\n",
      "\n",
      "/home/kevin/anaconda3/envs/ml/lib/python3.7/site-packages/pymatgen/analysis/local_env.py:3282: UserWarning:\n",
      "\n",
      "CrystalNN: cannot locate an appropriate radius, covalent or atomic radii will be used, this can lead to non-optimal results.\n",
      "\n"
     ]
    }
   ],
   "source": [
    "test_features_dict = {}\n",
    "\n",
    "already_featurized = [Path(s).stem for s in glob(\"features/*.pkl\")]\n",
    "for s in special_test_structures[::-1]:\n",
    "    name = Path(s).stem\n",
    "    gf = GetFeatures(s, 'features')\n",
    "    gf.run_featurization()"
   ]
  },
  {
   "cell_type": "markdown",
   "metadata": {},
   "source": [
    "## Collect features "
   ]
  },
  {
   "cell_type": "code",
   "execution_count": 10,
   "metadata": {},
   "outputs": [
    {
     "name": "stderr",
     "output_type": "stream",
     "text": [
      "featurize.py: the feature names are ['local difference in Number', 'local difference in MendeleevNumber', 'local difference in AtomicWeight', 'local difference in MeltingT', 'local difference in Column', 'local difference in Row', 'local difference in CovalentRadius', 'local difference in Electronegativity', 'local difference in NsValence', 'local difference in NpValence', 'local difference in NdValence', 'local difference in NfValence', 'local difference in NValence', 'local difference in NsUnfilled', 'local difference in NpUnfilled', 'local difference in NdUnfilled', 'local difference in NfUnfilled', 'local difference in NUnfilled', 'local difference in GSvolume_pa', 'local difference in GSbandgap', 'local difference in GSmagmom', 'local difference in SpaceGroupNumber']\n",
      "featurize.py: the feature names are ['local difference in Number', 'local difference in MendeleevNumber', 'local difference in AtomicWeight', 'local difference in MeltingT', 'local difference in Column', 'local difference in Row', 'local difference in CovalentRadius', 'local difference in Electronegativity', 'local difference in NsValence', 'local difference in NpValence', 'local difference in NdValence', 'local difference in NfValence', 'local difference in NValence', 'local difference in NsUnfilled', 'local difference in NpUnfilled', 'local difference in NdUnfilled', 'local difference in NfUnfilled', 'local difference in NUnfilled', 'local difference in GSvolume_pa', 'local difference in GSbandgap', 'local difference in GSmagmom', 'local difference in SpaceGroupNumber']\n"
     ]
    }
   ],
   "source": [
    "import numpy as np \n",
    "features_dict = { }\n",
    "\n",
    "features = glob('features/*.pkl')\n",
    "\n",
    "for feature in features:\n",
    "    rl = FeatureCollector.create_dict_for_feature_table(feature)\n",
    "    features = []\n",
    "    for d in rl:\n",
    "        features.append(d['feature'])\n",
    "    features = np.vstack(features)\n",
    "    features = FeatureCollector._select_features(['ward_prb'], features)\n",
    "    features_dict[Path(feature).stem] = features"
   ]
  },
  {
   "cell_type": "code",
   "execution_count": null,
   "metadata": {},
   "outputs": [],
   "source": []
  }
 ],
 "metadata": {
  "kernelspec": {
   "display_name": "Python [conda env:ml] *",
   "language": "python",
   "name": "conda-env-ml-py"
  },
  "language_info": {
   "codemirror_mode": {
    "name": "ipython",
    "version": 3
   },
   "file_extension": ".py",
   "mimetype": "text/x-python",
   "name": "python",
   "nbconvert_exporter": "python",
   "pygments_lexer": "ipython3",
   "version": "3.7.3"
  }
 },
 "nbformat": 4,
 "nbformat_minor": 4
}
