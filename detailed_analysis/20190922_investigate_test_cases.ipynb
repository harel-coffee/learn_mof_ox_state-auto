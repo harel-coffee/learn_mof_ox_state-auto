{
 "cells": [
  {
   "cell_type": "markdown",
   "metadata": {},
   "source": [
    "#  Featurizing special test structures and evaluating the model predictions on them in more detail"
   ]
  },
  {
   "cell_type": "markdown",
   "metadata": {},
   "source": [
    "## Import packages"
   ]
  },
  {
   "cell_type": "code",
   "execution_count": 17,
   "metadata": {},
   "outputs": [
    {
     "name": "stderr",
     "output_type": "stream",
     "text": [
      "pyplot.py: Loaded backend module://ipykernel.pylab.backend_inline version unknown.\n"
     ]
    }
   ],
   "source": [
    "import pandas as pd \n",
    "from glob import glob\n",
    "import os \n",
    "from pathlib import Path\n",
    "\n",
    "# own packages\n",
    "from mine_mof_oxstate.featurize import GetFeatures, FeatureCollector\n",
    "\n",
    "# plotting\n",
    "import matplotlib.pyplot as plt\n",
    "%matplotlib inline\n",
    "import seaborn as sns\n",
    "\n",
    "import sys\n",
    "sys.path.append('../machine_learn_oxstates')\n",
    "# ml\n",
    "from joblib import dump, load"
   ]
  },
  {
   "cell_type": "markdown",
   "metadata": {},
   "source": [
    "## Calculate Features"
   ]
  },
  {
   "cell_type": "markdown",
   "metadata": {},
   "source": [
    "Identically to what we did for all structures before we will first calculate all features and save them in pickle files."
   ]
  },
  {
   "cell_type": "code",
   "execution_count": 11,
   "metadata": {},
   "outputs": [],
   "source": [
    "special_test_structures = glob('/home/kevin/Dropbox (LSMO)/proj62_guess_oxidation_states/test_structures/*/*.cif')"
   ]
  },
  {
   "cell_type": "code",
   "execution_count": 12,
   "metadata": {},
   "outputs": [
    {
     "data": {
      "text/plain": [
       "['/home/kevin/Dropbox (LSMO)/proj62_guess_oxidation_states/test_structures/showcases/JIZJEJ.cif',\n",
       " '/home/kevin/Dropbox (LSMO)/proj62_guess_oxidation_states/test_structures/showcases/JIZJUZ.cif',\n",
       " '/home/kevin/Dropbox (LSMO)/proj62_guess_oxidation_states/test_structures/showcases/HEQWAB.cif',\n",
       " '/home/kevin/Dropbox (LSMO)/proj62_guess_oxidation_states/test_structures/showcases/KAJZIH.cif',\n",
       " '/home/kevin/Dropbox (LSMO)/proj62_guess_oxidation_states/test_structures/showcases/JIZJOT.cif',\n",
       " '/home/kevin/Dropbox (LSMO)/proj62_guess_oxidation_states/test_structures/showcases/QIDFOB.cif',\n",
       " '/home/kevin/Dropbox (LSMO)/proj62_guess_oxidation_states/test_structures/showcases/BUPVEP.cif',\n",
       " '/home/kevin/Dropbox (LSMO)/proj62_guess_oxidation_states/test_structures/showcases/GUVZEE.cif',\n",
       " '/home/kevin/Dropbox (LSMO)/proj62_guess_oxidation_states/test_structures/showcases/yamloq.cif',\n",
       " '/home/kevin/Dropbox (LSMO)/proj62_guess_oxidation_states/test_structures/showcases/mix_fe_mo.cif',\n",
       " '/home/kevin/Dropbox (LSMO)/proj62_guess_oxidation_states/test_structures/showcases/JIZJAF.cif',\n",
       " '/home/kevin/Dropbox (LSMO)/proj62_guess_oxidation_states/test_structures/showcases/ORIVUI.cif',\n",
       " '/home/kevin/Dropbox (LSMO)/proj62_guess_oxidation_states/test_structures/showcases/GUVZII.cif',\n",
       " '/home/kevin/Dropbox (LSMO)/proj62_guess_oxidation_states/test_structures/showcases/QAMTEG.cif',\n",
       " '/home/kevin/Dropbox (LSMO)/proj62_guess_oxidation_states/test_structures/showcases/COKNOH01.cif',\n",
       " '/home/kevin/Dropbox (LSMO)/proj62_guess_oxidation_states/test_structures/showcases/MAHSUK01.cif',\n",
       " '/home/kevin/Dropbox (LSMO)/proj62_guess_oxidation_states/test_structures/showcases/ZITFIU.cif',\n",
       " '/home/kevin/Dropbox (LSMO)/proj62_guess_oxidation_states/test_structures/showcases/JIZJIN.cif',\n",
       " '/home/kevin/Dropbox (LSMO)/proj62_guess_oxidation_states/test_structures/showcases/ZITMUN.cif',\n",
       " '/home/kevin/Dropbox (LSMO)/proj62_guess_oxidation_states/test_structures/showcases/HEQVUU.cif',\n",
       " '/home/kevin/Dropbox (LSMO)/proj62_guess_oxidation_states/test_structures/blind/ME01_P1.cif']"
      ]
     },
     "execution_count": 12,
     "metadata": {},
     "output_type": "execute_result"
    }
   ],
   "source": [
    "special_test_structures"
   ]
  },
  {
   "cell_type": "code",
   "execution_count": null,
   "metadata": {},
   "outputs": [
    {
     "name": "stdout",
     "output_type": "stream",
     "text": [
      "JIZJAF\n"
     ]
    },
    {
     "name": "stderr",
     "output_type": "stream",
     "text": [
      "featurize.py: iterating over 12 metal sites\n",
      "/home/kevin/anaconda3/envs/ml/lib/python3.7/site-packages/pymatgen/analysis/local_env.py:3467: UserWarning:\n",
      "\n",
      "CrystalNN: distance cutoffs set but no oxidation states specified on sites! For better results, set the site oxidation states in the structure.\n",
      "\n",
      "/home/kevin/anaconda3/envs/ml/lib/python3.7/site-packages/pymatgen/analysis/local_env.py:3282: UserWarning:\n",
      "\n",
      "CrystalNN: cannot locate an appropriate radius, covalent or atomic radii will be used, this can lead to non-optimal results.\n",
      "\n"
     ]
    },
    {
     "name": "stdout",
     "output_type": "stream",
     "text": [
      "mix_fe_mo\n"
     ]
    },
    {
     "name": "stderr",
     "output_type": "stream",
     "text": [
      "featurize.py: iterating over 320 metal sites\n",
      "/home/kevin/anaconda3/envs/ml/lib/python3.7/site-packages/pymatgen/analysis/local_env.py:3467: UserWarning:\n",
      "\n",
      "CrystalNN: distance cutoffs set but no oxidation states specified on sites! For better results, set the site oxidation states in the structure.\n",
      "\n",
      "/home/kevin/anaconda3/envs/ml/lib/python3.7/site-packages/pymatgen/analysis/local_env.py:3282: UserWarning:\n",
      "\n",
      "CrystalNN: cannot locate an appropriate radius, covalent or atomic radii will be used, this can lead to non-optimal results.\n",
      "\n"
     ]
    }
   ],
   "source": [
    "test_features_dict = {}\n",
    "\n",
    "already_featurized = [Path(s).stem for s in glob(\"features/*.pkl\")]\n",
    "for s in special_test_structures[::-1]:\n",
    "    name = Path(s).stem\n",
    "    if name not in already_featurized:\n",
    "        print(name)\n",
    "        gf = GetFeatures(s, 'features')\n",
    "        gf.run_featurization()"
   ]
  },
  {
   "cell_type": "code",
   "execution_count": 10,
   "metadata": {},
   "outputs": [
    {
     "ename": "TypeError",
     "evalue": "string indices must be integers",
     "output_type": "error",
     "traceback": [
      "\u001b[0;31m---------------------------------------------------------------------------\u001b[0m",
      "\u001b[0;31mTypeError\u001b[0m                                 Traceback (most recent call last)",
      "\u001b[0;32m<ipython-input-10-1f1c2944bf52>\u001b[0m in \u001b[0;36m<module>\u001b[0;34m\u001b[0m\n\u001b[0;32m----> 1\u001b[0;31m \u001b[0mrl\u001b[0m \u001b[0;34m=\u001b[0m \u001b[0mFeatureCollector\u001b[0m\u001b[0;34m.\u001b[0m\u001b[0mcreate_dict_for_feature_table\u001b[0m\u001b[0;34m(\u001b[0m\u001b[0;34m'features/HEQVUU.pkl'\u001b[0m\u001b[0;34m)\u001b[0m\u001b[0;34m\u001b[0m\u001b[0;34m\u001b[0m\u001b[0m\n\u001b[0m",
      "\u001b[0;32m~/Dropbox (LSMO)/proj62_guess_oxidation_states/mine_csd/mine_mof_oxstate/featurize.py\u001b[0m in \u001b[0;36mcreate_dict_for_feature_table\u001b[0;34m(picklefile)\u001b[0m\n\u001b[1;32m    534\u001b[0m         \u001b[0mresult_list\u001b[0m \u001b[0;34m=\u001b[0m \u001b[0;34m[\u001b[0m\u001b[0;34m]\u001b[0m\u001b[0;34m\u001b[0m\u001b[0;34m\u001b[0m\u001b[0m\n\u001b[1;32m    535\u001b[0m         \u001b[0;32mfor\u001b[0m \u001b[0msite\u001b[0m \u001b[0;32min\u001b[0m \u001b[0mresult\u001b[0m\u001b[0;34m:\u001b[0m\u001b[0;34m\u001b[0m\u001b[0;34m\u001b[0m\u001b[0m\n\u001b[0;32m--> 536\u001b[0;31m             \u001b[0me\u001b[0m \u001b[0;34m=\u001b[0m \u001b[0mElement\u001b[0m\u001b[0;34m(\u001b[0m\u001b[0msite\u001b[0m\u001b[0;34m[\u001b[0m\u001b[0;34m\"metal\"\u001b[0m\u001b[0;34m]\u001b[0m\u001b[0;34m)\u001b[0m\u001b[0;34m\u001b[0m\u001b[0;34m\u001b[0m\u001b[0m\n\u001b[0m\u001b[1;32m    537\u001b[0m             \u001b[0mmetal_encoding\u001b[0m \u001b[0;34m=\u001b[0m \u001b[0;34m[\u001b[0m\u001b[0me\u001b[0m\u001b[0;34m.\u001b[0m\u001b[0mnumber\u001b[0m\u001b[0;34m,\u001b[0m \u001b[0me\u001b[0m\u001b[0;34m.\u001b[0m\u001b[0mrow\u001b[0m\u001b[0;34m,\u001b[0m \u001b[0me\u001b[0m\u001b[0;34m.\u001b[0m\u001b[0mgroup\u001b[0m\u001b[0;34m,\u001b[0m \u001b[0mnp\u001b[0m\u001b[0;34m.\u001b[0m\u001b[0mrandom\u001b[0m\u001b[0;34m.\u001b[0m\u001b[0mrandint\u001b[0m\u001b[0;34m(\u001b[0m\u001b[0;36m1\u001b[0m\u001b[0;34m,\u001b[0m \u001b[0;36m18\u001b[0m\u001b[0;34m)\u001b[0m\u001b[0;34m]\u001b[0m\u001b[0;34m\u001b[0m\u001b[0;34m\u001b[0m\u001b[0m\n\u001b[1;32m    538\u001b[0m             \u001b[0mfeatures\u001b[0m \u001b[0;34m=\u001b[0m \u001b[0mlist\u001b[0m\u001b[0;34m(\u001b[0m\u001b[0msite\u001b[0m\u001b[0;34m[\u001b[0m\u001b[0;34m\"feature\"\u001b[0m\u001b[0;34m]\u001b[0m\u001b[0;34m)\u001b[0m\u001b[0;34m\u001b[0m\u001b[0;34m\u001b[0m\u001b[0m\n",
      "\u001b[0;31mTypeError\u001b[0m: string indices must be integers"
     ]
    }
   ],
   "source": [
    "rl = FeatureCollector.create_dict_for_feature_table('features/HEQVUU.pkl')"
   ]
  },
  {
   "cell_type": "markdown",
   "metadata": {},
   "source": [
    "## Collect features "
   ]
  },
  {
   "cell_type": "code",
   "execution_count": 14,
   "metadata": {},
   "outputs": [
    {
     "name": "stderr",
     "output_type": "stream",
     "text": [
      "featurize.py: the feature names are ['wt CN_1', 'sgl_bd CN_1', 'wt CN_2', 'L-shaped CN_2', 'water-like CN_2', 'bent 120 degrees CN_2', 'bent 150 degrees CN_2', 'linear CN_2', 'wt CN_3', 'trigonal planar CN_3', 'trigonal non-coplanar CN_3', 'T-shaped CN_3', 'wt CN_4', 'square co-planar CN_4', 'tetrahedral CN_4', 'rectangular see-saw-like CN_4', 'see-saw-like CN_4', 'trigonal pyramidal CN_4', 'wt CN_5', 'pentagonal planar CN_5', 'square pyramidal CN_5', 'trigonal bipyramidal CN_5', 'wt CN_6', 'hexagonal planar CN_6', 'octahedral CN_6', 'pentagonal pyramidal CN_6', 'wt CN_7', 'hexagonal pyramidal CN_7', 'pentagonal bipyramidal CN_7', 'wt CN_8', 'body-centered cubic CN_8', 'hexagonal bipyramidal CN_8', 'wt CN_9', 'q2 CN_9', 'q4 CN_9', 'q6 CN_9', 'wt CN_10', 'q2 CN_10', 'q4 CN_10', 'q6 CN_10', 'wt CN_11', 'q2 CN_11', 'q4 CN_11', 'q6 CN_11', 'wt CN_12', 'cuboctahedral CN_12', 'q2 CN_12', 'q4 CN_12', 'q6 CN_12', 'wt CN_13', 'wt CN_14', 'wt CN_15', 'wt CN_16', 'wt CN_17', 'wt CN_18', 'wt CN_19', 'wt CN_20', 'wt CN_21', 'wt CN_22', 'wt CN_23', 'wt CN_24', 'local difference in Number', 'local difference in MendeleevNumber', 'local difference in AtomicWeight', 'local difference in MeltingT', 'local difference in Column', 'local difference in Row', 'local difference in CovalentRadius', 'local difference in Electronegativity', 'local difference in NsValence', 'local difference in NpValence', 'local difference in NdValence', 'local difference in NfValence', 'local difference in NValence', 'local difference in NsUnfilled', 'local difference in NpUnfilled', 'local difference in NdUnfilled', 'local difference in NfUnfilled', 'local difference in NUnfilled', 'local difference in GSvolume_pa', 'local difference in GSbandgap', 'local difference in GSmagmom', 'local difference in SpaceGroupNumber', 'row', 'column']\n",
      "featurize.py: the feature names are ['wt CN_1', 'sgl_bd CN_1', 'wt CN_2', 'L-shaped CN_2', 'water-like CN_2', 'bent 120 degrees CN_2', 'bent 150 degrees CN_2', 'linear CN_2', 'wt CN_3', 'trigonal planar CN_3', 'trigonal non-coplanar CN_3', 'T-shaped CN_3', 'wt CN_4', 'square co-planar CN_4', 'tetrahedral CN_4', 'rectangular see-saw-like CN_4', 'see-saw-like CN_4', 'trigonal pyramidal CN_4', 'wt CN_5', 'pentagonal planar CN_5', 'square pyramidal CN_5', 'trigonal bipyramidal CN_5', 'wt CN_6', 'hexagonal planar CN_6', 'octahedral CN_6', 'pentagonal pyramidal CN_6', 'wt CN_7', 'hexagonal pyramidal CN_7', 'pentagonal bipyramidal CN_7', 'wt CN_8', 'body-centered cubic CN_8', 'hexagonal bipyramidal CN_8', 'wt CN_9', 'q2 CN_9', 'q4 CN_9', 'q6 CN_9', 'wt CN_10', 'q2 CN_10', 'q4 CN_10', 'q6 CN_10', 'wt CN_11', 'q2 CN_11', 'q4 CN_11', 'q6 CN_11', 'wt CN_12', 'cuboctahedral CN_12', 'q2 CN_12', 'q4 CN_12', 'q6 CN_12', 'wt CN_13', 'wt CN_14', 'wt CN_15', 'wt CN_16', 'wt CN_17', 'wt CN_18', 'wt CN_19', 'wt CN_20', 'wt CN_21', 'wt CN_22', 'wt CN_23', 'wt CN_24', 'local difference in Number', 'local difference in MendeleevNumber', 'local difference in AtomicWeight', 'local difference in MeltingT', 'local difference in Column', 'local difference in Row', 'local difference in CovalentRadius', 'local difference in Electronegativity', 'local difference in NsValence', 'local difference in NpValence', 'local difference in NdValence', 'local difference in NfValence', 'local difference in NValence', 'local difference in NsUnfilled', 'local difference in NpUnfilled', 'local difference in NdUnfilled', 'local difference in NfUnfilled', 'local difference in NUnfilled', 'local difference in GSvolume_pa', 'local difference in GSbandgap', 'local difference in GSmagmom', 'local difference in SpaceGroupNumber', 'row', 'column']\n",
      "featurize.py: the feature names are ['wt CN_1', 'sgl_bd CN_1', 'wt CN_2', 'L-shaped CN_2', 'water-like CN_2', 'bent 120 degrees CN_2', 'bent 150 degrees CN_2', 'linear CN_2', 'wt CN_3', 'trigonal planar CN_3', 'trigonal non-coplanar CN_3', 'T-shaped CN_3', 'wt CN_4', 'square co-planar CN_4', 'tetrahedral CN_4', 'rectangular see-saw-like CN_4', 'see-saw-like CN_4', 'trigonal pyramidal CN_4', 'wt CN_5', 'pentagonal planar CN_5', 'square pyramidal CN_5', 'trigonal bipyramidal CN_5', 'wt CN_6', 'hexagonal planar CN_6', 'octahedral CN_6', 'pentagonal pyramidal CN_6', 'wt CN_7', 'hexagonal pyramidal CN_7', 'pentagonal bipyramidal CN_7', 'wt CN_8', 'body-centered cubic CN_8', 'hexagonal bipyramidal CN_8', 'wt CN_9', 'q2 CN_9', 'q4 CN_9', 'q6 CN_9', 'wt CN_10', 'q2 CN_10', 'q4 CN_10', 'q6 CN_10', 'wt CN_11', 'q2 CN_11', 'q4 CN_11', 'q6 CN_11', 'wt CN_12', 'cuboctahedral CN_12', 'q2 CN_12', 'q4 CN_12', 'q6 CN_12', 'wt CN_13', 'wt CN_14', 'wt CN_15', 'wt CN_16', 'wt CN_17', 'wt CN_18', 'wt CN_19', 'wt CN_20', 'wt CN_21', 'wt CN_22', 'wt CN_23', 'wt CN_24', 'local difference in Number', 'local difference in MendeleevNumber', 'local difference in AtomicWeight', 'local difference in MeltingT', 'local difference in Column', 'local difference in Row', 'local difference in CovalentRadius', 'local difference in Electronegativity', 'local difference in NsValence', 'local difference in NpValence', 'local difference in NdValence', 'local difference in NfValence', 'local difference in NValence', 'local difference in NsUnfilled', 'local difference in NpUnfilled', 'local difference in NdUnfilled', 'local difference in NfUnfilled', 'local difference in NUnfilled', 'local difference in GSvolume_pa', 'local difference in GSbandgap', 'local difference in GSmagmom', 'local difference in SpaceGroupNumber', 'row', 'column']\n",
      "featurize.py: the feature names are ['wt CN_1', 'sgl_bd CN_1', 'wt CN_2', 'L-shaped CN_2', 'water-like CN_2', 'bent 120 degrees CN_2', 'bent 150 degrees CN_2', 'linear CN_2', 'wt CN_3', 'trigonal planar CN_3', 'trigonal non-coplanar CN_3', 'T-shaped CN_3', 'wt CN_4', 'square co-planar CN_4', 'tetrahedral CN_4', 'rectangular see-saw-like CN_4', 'see-saw-like CN_4', 'trigonal pyramidal CN_4', 'wt CN_5', 'pentagonal planar CN_5', 'square pyramidal CN_5', 'trigonal bipyramidal CN_5', 'wt CN_6', 'hexagonal planar CN_6', 'octahedral CN_6', 'pentagonal pyramidal CN_6', 'wt CN_7', 'hexagonal pyramidal CN_7', 'pentagonal bipyramidal CN_7', 'wt CN_8', 'body-centered cubic CN_8', 'hexagonal bipyramidal CN_8', 'wt CN_9', 'q2 CN_9', 'q4 CN_9', 'q6 CN_9', 'wt CN_10', 'q2 CN_10', 'q4 CN_10', 'q6 CN_10', 'wt CN_11', 'q2 CN_11', 'q4 CN_11', 'q6 CN_11', 'wt CN_12', 'cuboctahedral CN_12', 'q2 CN_12', 'q4 CN_12', 'q6 CN_12', 'wt CN_13', 'wt CN_14', 'wt CN_15', 'wt CN_16', 'wt CN_17', 'wt CN_18', 'wt CN_19', 'wt CN_20', 'wt CN_21', 'wt CN_22', 'wt CN_23', 'wt CN_24', 'local difference in Number', 'local difference in MendeleevNumber', 'local difference in AtomicWeight', 'local difference in MeltingT', 'local difference in Column', 'local difference in Row', 'local difference in CovalentRadius', 'local difference in Electronegativity', 'local difference in NsValence', 'local difference in NpValence', 'local difference in NdValence', 'local difference in NfValence', 'local difference in NValence', 'local difference in NsUnfilled', 'local difference in NpUnfilled', 'local difference in NdUnfilled', 'local difference in NfUnfilled', 'local difference in NUnfilled', 'local difference in GSvolume_pa', 'local difference in GSbandgap', 'local difference in GSmagmom', 'local difference in SpaceGroupNumber', 'row', 'column']\n",
      "featurize.py: the feature names are ['wt CN_1', 'sgl_bd CN_1', 'wt CN_2', 'L-shaped CN_2', 'water-like CN_2', 'bent 120 degrees CN_2', 'bent 150 degrees CN_2', 'linear CN_2', 'wt CN_3', 'trigonal planar CN_3', 'trigonal non-coplanar CN_3', 'T-shaped CN_3', 'wt CN_4', 'square co-planar CN_4', 'tetrahedral CN_4', 'rectangular see-saw-like CN_4', 'see-saw-like CN_4', 'trigonal pyramidal CN_4', 'wt CN_5', 'pentagonal planar CN_5', 'square pyramidal CN_5', 'trigonal bipyramidal CN_5', 'wt CN_6', 'hexagonal planar CN_6', 'octahedral CN_6', 'pentagonal pyramidal CN_6', 'wt CN_7', 'hexagonal pyramidal CN_7', 'pentagonal bipyramidal CN_7', 'wt CN_8', 'body-centered cubic CN_8', 'hexagonal bipyramidal CN_8', 'wt CN_9', 'q2 CN_9', 'q4 CN_9', 'q6 CN_9', 'wt CN_10', 'q2 CN_10', 'q4 CN_10', 'q6 CN_10', 'wt CN_11', 'q2 CN_11', 'q4 CN_11', 'q6 CN_11', 'wt CN_12', 'cuboctahedral CN_12', 'q2 CN_12', 'q4 CN_12', 'q6 CN_12', 'wt CN_13', 'wt CN_14', 'wt CN_15', 'wt CN_16', 'wt CN_17', 'wt CN_18', 'wt CN_19', 'wt CN_20', 'wt CN_21', 'wt CN_22', 'wt CN_23', 'wt CN_24', 'local difference in Number', 'local difference in MendeleevNumber', 'local difference in AtomicWeight', 'local difference in MeltingT', 'local difference in Column', 'local difference in Row', 'local difference in CovalentRadius', 'local difference in Electronegativity', 'local difference in NsValence', 'local difference in NpValence', 'local difference in NdValence', 'local difference in NfValence', 'local difference in NValence', 'local difference in NsUnfilled', 'local difference in NpUnfilled', 'local difference in NdUnfilled', 'local difference in NfUnfilled', 'local difference in NUnfilled', 'local difference in GSvolume_pa', 'local difference in GSbandgap', 'local difference in GSmagmom', 'local difference in SpaceGroupNumber', 'row', 'column']\n",
      "featurize.py: the feature names are ['wt CN_1', 'sgl_bd CN_1', 'wt CN_2', 'L-shaped CN_2', 'water-like CN_2', 'bent 120 degrees CN_2', 'bent 150 degrees CN_2', 'linear CN_2', 'wt CN_3', 'trigonal planar CN_3', 'trigonal non-coplanar CN_3', 'T-shaped CN_3', 'wt CN_4', 'square co-planar CN_4', 'tetrahedral CN_4', 'rectangular see-saw-like CN_4', 'see-saw-like CN_4', 'trigonal pyramidal CN_4', 'wt CN_5', 'pentagonal planar CN_5', 'square pyramidal CN_5', 'trigonal bipyramidal CN_5', 'wt CN_6', 'hexagonal planar CN_6', 'octahedral CN_6', 'pentagonal pyramidal CN_6', 'wt CN_7', 'hexagonal pyramidal CN_7', 'pentagonal bipyramidal CN_7', 'wt CN_8', 'body-centered cubic CN_8', 'hexagonal bipyramidal CN_8', 'wt CN_9', 'q2 CN_9', 'q4 CN_9', 'q6 CN_9', 'wt CN_10', 'q2 CN_10', 'q4 CN_10', 'q6 CN_10', 'wt CN_11', 'q2 CN_11', 'q4 CN_11', 'q6 CN_11', 'wt CN_12', 'cuboctahedral CN_12', 'q2 CN_12', 'q4 CN_12', 'q6 CN_12', 'wt CN_13', 'wt CN_14', 'wt CN_15', 'wt CN_16', 'wt CN_17', 'wt CN_18', 'wt CN_19', 'wt CN_20', 'wt CN_21', 'wt CN_22', 'wt CN_23', 'wt CN_24', 'local difference in Number', 'local difference in MendeleevNumber', 'local difference in AtomicWeight', 'local difference in MeltingT', 'local difference in Column', 'local difference in Row', 'local difference in CovalentRadius', 'local difference in Electronegativity', 'local difference in NsValence', 'local difference in NpValence', 'local difference in NdValence', 'local difference in NfValence', 'local difference in NValence', 'local difference in NsUnfilled', 'local difference in NpUnfilled', 'local difference in NdUnfilled', 'local difference in NfUnfilled', 'local difference in NUnfilled', 'local difference in GSvolume_pa', 'local difference in GSbandgap', 'local difference in GSmagmom', 'local difference in SpaceGroupNumber', 'row', 'column']\n",
      "featurize.py: the feature names are ['wt CN_1', 'sgl_bd CN_1', 'wt CN_2', 'L-shaped CN_2', 'water-like CN_2', 'bent 120 degrees CN_2', 'bent 150 degrees CN_2', 'linear CN_2', 'wt CN_3', 'trigonal planar CN_3', 'trigonal non-coplanar CN_3', 'T-shaped CN_3', 'wt CN_4', 'square co-planar CN_4', 'tetrahedral CN_4', 'rectangular see-saw-like CN_4', 'see-saw-like CN_4', 'trigonal pyramidal CN_4', 'wt CN_5', 'pentagonal planar CN_5', 'square pyramidal CN_5', 'trigonal bipyramidal CN_5', 'wt CN_6', 'hexagonal planar CN_6', 'octahedral CN_6', 'pentagonal pyramidal CN_6', 'wt CN_7', 'hexagonal pyramidal CN_7', 'pentagonal bipyramidal CN_7', 'wt CN_8', 'body-centered cubic CN_8', 'hexagonal bipyramidal CN_8', 'wt CN_9', 'q2 CN_9', 'q4 CN_9', 'q6 CN_9', 'wt CN_10', 'q2 CN_10', 'q4 CN_10', 'q6 CN_10', 'wt CN_11', 'q2 CN_11', 'q4 CN_11', 'q6 CN_11', 'wt CN_12', 'cuboctahedral CN_12', 'q2 CN_12', 'q4 CN_12', 'q6 CN_12', 'wt CN_13', 'wt CN_14', 'wt CN_15', 'wt CN_16', 'wt CN_17', 'wt CN_18', 'wt CN_19', 'wt CN_20', 'wt CN_21', 'wt CN_22', 'wt CN_23', 'wt CN_24', 'local difference in Number', 'local difference in MendeleevNumber', 'local difference in AtomicWeight', 'local difference in MeltingT', 'local difference in Column', 'local difference in Row', 'local difference in CovalentRadius', 'local difference in Electronegativity', 'local difference in NsValence', 'local difference in NpValence', 'local difference in NdValence', 'local difference in NfValence', 'local difference in NValence', 'local difference in NsUnfilled', 'local difference in NpUnfilled', 'local difference in NdUnfilled', 'local difference in NfUnfilled', 'local difference in NUnfilled', 'local difference in GSvolume_pa', 'local difference in GSbandgap', 'local difference in GSmagmom', 'local difference in SpaceGroupNumber', 'row', 'column']\n",
      "featurize.py: the feature names are ['wt CN_1', 'sgl_bd CN_1', 'wt CN_2', 'L-shaped CN_2', 'water-like CN_2', 'bent 120 degrees CN_2', 'bent 150 degrees CN_2', 'linear CN_2', 'wt CN_3', 'trigonal planar CN_3', 'trigonal non-coplanar CN_3', 'T-shaped CN_3', 'wt CN_4', 'square co-planar CN_4', 'tetrahedral CN_4', 'rectangular see-saw-like CN_4', 'see-saw-like CN_4', 'trigonal pyramidal CN_4', 'wt CN_5', 'pentagonal planar CN_5', 'square pyramidal CN_5', 'trigonal bipyramidal CN_5', 'wt CN_6', 'hexagonal planar CN_6', 'octahedral CN_6', 'pentagonal pyramidal CN_6', 'wt CN_7', 'hexagonal pyramidal CN_7', 'pentagonal bipyramidal CN_7', 'wt CN_8', 'body-centered cubic CN_8', 'hexagonal bipyramidal CN_8', 'wt CN_9', 'q2 CN_9', 'q4 CN_9', 'q6 CN_9', 'wt CN_10', 'q2 CN_10', 'q4 CN_10', 'q6 CN_10', 'wt CN_11', 'q2 CN_11', 'q4 CN_11', 'q6 CN_11', 'wt CN_12', 'cuboctahedral CN_12', 'q2 CN_12', 'q4 CN_12', 'q6 CN_12', 'wt CN_13', 'wt CN_14', 'wt CN_15', 'wt CN_16', 'wt CN_17', 'wt CN_18', 'wt CN_19', 'wt CN_20', 'wt CN_21', 'wt CN_22', 'wt CN_23', 'wt CN_24', 'local difference in Number', 'local difference in MendeleevNumber', 'local difference in AtomicWeight', 'local difference in MeltingT', 'local difference in Column', 'local difference in Row', 'local difference in CovalentRadius', 'local difference in Electronegativity', 'local difference in NsValence', 'local difference in NpValence', 'local difference in NdValence', 'local difference in NfValence', 'local difference in NValence', 'local difference in NsUnfilled', 'local difference in NpUnfilled', 'local difference in NdUnfilled', 'local difference in NfUnfilled', 'local difference in NUnfilled', 'local difference in GSvolume_pa', 'local difference in GSbandgap', 'local difference in GSmagmom', 'local difference in SpaceGroupNumber', 'row', 'column']\n",
      "featurize.py: the feature names are ['wt CN_1', 'sgl_bd CN_1', 'wt CN_2', 'L-shaped CN_2', 'water-like CN_2', 'bent 120 degrees CN_2', 'bent 150 degrees CN_2', 'linear CN_2', 'wt CN_3', 'trigonal planar CN_3', 'trigonal non-coplanar CN_3', 'T-shaped CN_3', 'wt CN_4', 'square co-planar CN_4', 'tetrahedral CN_4', 'rectangular see-saw-like CN_4', 'see-saw-like CN_4', 'trigonal pyramidal CN_4', 'wt CN_5', 'pentagonal planar CN_5', 'square pyramidal CN_5', 'trigonal bipyramidal CN_5', 'wt CN_6', 'hexagonal planar CN_6', 'octahedral CN_6', 'pentagonal pyramidal CN_6', 'wt CN_7', 'hexagonal pyramidal CN_7', 'pentagonal bipyramidal CN_7', 'wt CN_8', 'body-centered cubic CN_8', 'hexagonal bipyramidal CN_8', 'wt CN_9', 'q2 CN_9', 'q4 CN_9', 'q6 CN_9', 'wt CN_10', 'q2 CN_10', 'q4 CN_10', 'q6 CN_10', 'wt CN_11', 'q2 CN_11', 'q4 CN_11', 'q6 CN_11', 'wt CN_12', 'cuboctahedral CN_12', 'q2 CN_12', 'q4 CN_12', 'q6 CN_12', 'wt CN_13', 'wt CN_14', 'wt CN_15', 'wt CN_16', 'wt CN_17', 'wt CN_18', 'wt CN_19', 'wt CN_20', 'wt CN_21', 'wt CN_22', 'wt CN_23', 'wt CN_24', 'local difference in Number', 'local difference in MendeleevNumber', 'local difference in AtomicWeight', 'local difference in MeltingT', 'local difference in Column', 'local difference in Row', 'local difference in CovalentRadius', 'local difference in Electronegativity', 'local difference in NsValence', 'local difference in NpValence', 'local difference in NdValence', 'local difference in NfValence', 'local difference in NValence', 'local difference in NsUnfilled', 'local difference in NpUnfilled', 'local difference in NdUnfilled', 'local difference in NfUnfilled', 'local difference in NUnfilled', 'local difference in GSvolume_pa', 'local difference in GSbandgap', 'local difference in GSmagmom', 'local difference in SpaceGroupNumber', 'row', 'column']\n",
      "featurize.py: the feature names are ['wt CN_1', 'sgl_bd CN_1', 'wt CN_2', 'L-shaped CN_2', 'water-like CN_2', 'bent 120 degrees CN_2', 'bent 150 degrees CN_2', 'linear CN_2', 'wt CN_3', 'trigonal planar CN_3', 'trigonal non-coplanar CN_3', 'T-shaped CN_3', 'wt CN_4', 'square co-planar CN_4', 'tetrahedral CN_4', 'rectangular see-saw-like CN_4', 'see-saw-like CN_4', 'trigonal pyramidal CN_4', 'wt CN_5', 'pentagonal planar CN_5', 'square pyramidal CN_5', 'trigonal bipyramidal CN_5', 'wt CN_6', 'hexagonal planar CN_6', 'octahedral CN_6', 'pentagonal pyramidal CN_6', 'wt CN_7', 'hexagonal pyramidal CN_7', 'pentagonal bipyramidal CN_7', 'wt CN_8', 'body-centered cubic CN_8', 'hexagonal bipyramidal CN_8', 'wt CN_9', 'q2 CN_9', 'q4 CN_9', 'q6 CN_9', 'wt CN_10', 'q2 CN_10', 'q4 CN_10', 'q6 CN_10', 'wt CN_11', 'q2 CN_11', 'q4 CN_11', 'q6 CN_11', 'wt CN_12', 'cuboctahedral CN_12', 'q2 CN_12', 'q4 CN_12', 'q6 CN_12', 'wt CN_13', 'wt CN_14', 'wt CN_15', 'wt CN_16', 'wt CN_17', 'wt CN_18', 'wt CN_19', 'wt CN_20', 'wt CN_21', 'wt CN_22', 'wt CN_23', 'wt CN_24', 'local difference in Number', 'local difference in MendeleevNumber', 'local difference in AtomicWeight', 'local difference in MeltingT', 'local difference in Column', 'local difference in Row', 'local difference in CovalentRadius', 'local difference in Electronegativity', 'local difference in NsValence', 'local difference in NpValence', 'local difference in NdValence', 'local difference in NfValence', 'local difference in NValence', 'local difference in NsUnfilled', 'local difference in NpUnfilled', 'local difference in NdUnfilled', 'local difference in NfUnfilled', 'local difference in NUnfilled', 'local difference in GSvolume_pa', 'local difference in GSbandgap', 'local difference in GSmagmom', 'local difference in SpaceGroupNumber', 'row', 'column']\n"
     ]
    }
   ],
   "source": [
    "import numpy as np \n",
    "features_dict = { }\n",
    "\n",
    "features = glob('features/*.pkl')\n",
    "\n",
    "for feature in features:\n",
    "    try:\n",
    "        rl = FeatureCollector.create_dict_for_feature_table(feature)\n",
    "        #print(rl)\n",
    "        features = []\n",
    "        for d in rl:\n",
    "            features.append(d['feature'])\n",
    "        features = np.vstack(features)\n",
    "        features = FeatureCollector._select_features(['crystal_nn_fingerprint', 'ward_prb', 'row', 'column'], features)\n",
    "        features_dict[Path(feature).stem] = features\n",
    "    except Exception as e:\n",
    "        print(e)"
   ]
  },
  {
   "cell_type": "markdown",
   "metadata": {},
   "source": [
    "## Load model and scaler to make predictions"
   ]
  },
  {
   "cell_type": "code",
   "execution_count": 15,
   "metadata": {},
   "outputs": [],
   "source": [
    "model = load('../models/20190924-082740_ensemble_0.joblib')\n",
    "scaler = load('../models/scaler_0.joblib')"
   ]
  },
  {
   "cell_type": "code",
   "execution_count": 16,
   "metadata": {},
   "outputs": [
    {
     "name": "stdout",
     "output_type": "stream",
     "text": [
      "Predicted [3 3 3 3 3 3 3 3] for HEQVUU\n",
      "Predicted [3 3 3 3 3 3 3 3] for QAMTEG\n",
      "Predicted [3 3] for ZITMUN\n",
      "Predicted [2 2 2 2 2 2 2 2 2 2 2 2 2 2 2 2 2 2] for ORIVUI\n",
      "Predicted [2 2 2 2 2 2 2 2 2 2 2 2 2 2 2 2 2 2] for GUVZII\n",
      "Predicted [3 3 3 3 3 3 3 3 3 3 3 3 3 3 3 3] for ZITFIU\n",
      "Predicted [2 2 2 2] for MAHSUK01\n",
      "Predicted [2 2 2 2 2 2 2 2 2 2 2 2 2 2 2 2 2 2] for COKNOH01\n",
      "Predicted [2 2 2 2 2 2 2 2 2 2 2 2] for JIZJIN\n",
      "Predicted [2 2 1 1] for ME01_P1\n"
     ]
    }
   ],
   "source": [
    "for k in features_dict.keys():\n",
    "    X = scaler.transform(features_dict[k])\n",
    "    prediction = model.predict(X)\n",
    "    print('Predicted {} for {}'.format(prediction, k))"
   ]
  },
  {
   "cell_type": "code",
   "execution_count": 17,
   "metadata": {},
   "outputs": [
    {
     "data": {
      "text/plain": [
       "array([2, 2, 1, 1])"
      ]
     },
     "execution_count": 17,
     "metadata": {},
     "output_type": "execute_result"
    }
   ],
   "source": []
  },
  {
   "cell_type": "code",
   "execution_count": 35,
   "metadata": {},
   "outputs": [
    {
     "name": "stdout",
     "output_type": "stream",
     "text": [
      "0.20.3\n"
     ]
    }
   ],
   "source": [
    "import sklearn\n",
    "print(sklearn.__version__)"
   ]
  },
  {
   "cell_type": "code",
   "execution_count": 36,
   "metadata": {},
   "outputs": [
    {
     "name": "stdout",
     "output_type": "stream",
     "text": [
      "Requirement already satisfied: scikit-learn==0.21.3 in /home/kevin/anaconda3/envs/ml/lib/python3.7/site-packages (0.21.3)\n",
      "Requirement already satisfied: numpy>=1.11.0 in /home/kevin/anaconda3/envs/ml/lib/python3.7/site-packages (from scikit-learn==0.21.3) (1.17.2)\n",
      "Requirement already satisfied: scipy>=0.17.0 in /home/kevin/anaconda3/envs/ml/lib/python3.7/site-packages (from scikit-learn==0.21.3) (1.2.1)\n",
      "Requirement already satisfied: joblib>=0.11 in /home/kevin/anaconda3/envs/ml/lib/python3.7/site-packages (from scikit-learn==0.21.3) (0.13.2)\n"
     ]
    }
   ],
   "source": [
    "!pip install scikit-learn==0.21.3"
   ]
  },
  {
   "cell_type": "code",
   "execution_count": null,
   "metadata": {},
   "outputs": [],
   "source": []
  }
 ],
 "metadata": {
  "kernelspec": {
   "display_name": "Python [conda env:ml] *",
   "language": "python",
   "name": "conda-env-ml-py"
  },
  "language_info": {
   "codemirror_mode": {
    "name": "ipython",
    "version": 3
   },
   "file_extension": ".py",
   "mimetype": "text/x-python",
   "name": "python",
   "nbconvert_exporter": "python",
   "pygments_lexer": "ipython3",
   "version": "3.7.3"
  }
 },
 "nbformat": 4,
 "nbformat_minor": 4
}
