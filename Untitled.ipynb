{
 "cells": [
  {
   "cell_type": "code",
   "execution_count": 1,
   "metadata": {},
   "outputs": [],
   "source": [
    "import pandas as pd\n",
    "import numpy as np \n",
    "import matplotlib.pyplot as plt \n",
    "%matplotlib inline"
   ]
  },
  {
   "cell_type": "code",
   "execution_count": 2,
   "metadata": {},
   "outputs": [],
   "source": [
    "feature_importances = [('wt CN_1', 0.0004603330068560285, 0.00012807734408053047), ('sgl_bd CN_1', 0.00031341821743389173, 0.00014394650790106983), ('wt CN_2', -0.00013712047012732765, 0.0002635381791787239), ('L-shaped CN_2', 0.0016062683643486952, 0.00031341821743389173), ('water-like CN_2', 0.00014691478942213676, 0.00023073886365112384), ('bent 120 degrees CN_2', 0.0003428011753183191, 0.00018453911539095965), ('bent 150 degrees CN_2', 0.00026444662095984615, 0.00019856155663774256), ('linear CN_2', 0.00015670910871694587, 0.00021988192282707046), ('wt CN_3', -0.0003623898139079373, 0.00014227070564480027), ('trigonal planar CN_3', -5.876591576885471e-05, 0.00031034239995602416), ('trigonal non-coplanar CN_3', -0.0002252693437806097, 0.00024989913461651736), ('T-shaped CN_3', 8.814887365328205e-05, 0.00020983629075052676), ('wt CN_4', 0.00026444662095984615, 0.00019856155663774253), ('square co-planar CN_4', 0.0018609206660137323, 0.0005660404809715982), ('tetrahedral CN_4', 0.0008031341821743476, 0.00032127756056526746), ('rectangular see-saw-like CN_4', 0.00031341821743389173, 0.0003301136052174907), ('see-saw-like CN_4', 5.876591576885471e-05, 0.0001529921581960184), ('trigonal pyramidal CN_4', 9.794319294809117e-05, 0.00018059832433482833), ('wt CN_5', 0.0002742409402546553, 0.00031827770439318506), ('pentagonal planar CN_5', 0.00019588638589618235, 0.00019588638589618232), ('square pyramidal CN_5', 0.0021449559255631912, 0.0006209165861153843), ('trigonal bipyramidal CN_5', 0.0005484818805093106, 0.00028789301580213966), ('wt CN_6', 0.0005680705190989288, 0.0002391098063806824), ('hexagonal planar CN_6', 4.897159647404559e-05, 0.00040084979294184814), ('octahedral CN_6', 0.010822722820763958, 0.0011061511861733702), ('pentagonal pyramidal CN_6', -9.794319294809117e-06, 0.0003126520998925081), ('wt CN_7', -0.00014691478942213676, 0.00013677022569803226), ('hexagonal pyramidal CN_7', -3.917727717923647e-05, 0.00015913885219659253), ('pentagonal bipyramidal CN_7', 0.00025465230166503704, 0.00010906492385563336), ('wt CN_8', 0.0002938295788442735, 0.00019092643182779762), ('body-centered cubic CN_8', 4.897159647404559e-05, 0.00015014407166264506), ('hexagonal bipyramidal CN_8', 6.856023506366383e-05, 0.00015517119997801205), ('wt CN_9', -1.9588638589618233e-05, 0.00010548804715248898), ('q2 CN_9', 0.0, 0.0), ('q4 CN_9', -9.794319294809117e-06, 7.523159400459052e-05), ('q6 CN_9', -0.0002154750244858006, 8.538489605368699e-05), ('wt CN_10', 0.0, 0.0), ('q2 CN_10', 9.794319294809117e-06, 7.523159400459052e-05), ('q4 CN_10', -2.9382957884427353e-05, 6.994543025017558e-05), ('q6 CN_10', 1.9588638589618233e-05, 5.876591576885469e-05), ('wt CN_11', 0.0, 0.0), ('q2 CN_11', 0.0, 0.0), ('q4 CN_11', 9.794319294809117e-06, 4.26924480268435e-05), ('q6 CN_11', 0.0, 0.0), ('wt CN_12', 0.0, 0.0), ('cuboctahedral CN_12', 0.0, 0.0), ('q2 CN_12', 0.0, 0.0), ('q4 CN_12', 0.0, 0.0), ('q6 CN_12', 0.0, 0.0), ('wt CN_13', 0.0002154750244858006, 5.876591576885469e-05), ('wt CN_14', 0.0, 0.0), ('wt CN_15', 0.0, 0.0), ('wt CN_16', 0.0, 0.0), ('wt CN_17', 0.0, 0.0), ('wt CN_18', 0.0, 0.0), ('wt CN_19', 0.0, 0.0), ('wt CN_20', 0.0, 0.0), ('wt CN_21', 0.0, 0.0), ('wt CN_22', 0.0, 0.0), ('wt CN_23', 0.0, 0.0), ('wt CN_24', 0.0, 0.0), ('local difference in Number', 0.0002742409402546553, 0.0003242496641968076), ('local difference in MendeleevNumber', 0.0003819784524975556, 0.00022738857524474095), ('local difference in AtomicWeight', -0.0004015670910871738, 0.0003064542183577313), ('local difference in MeltingT', 0.0029382957884427296, 0.0003335824949250915), ('local difference in Column', 0.0010479921645445756, 0.0004027597491665487), ('local difference in Row', 0.0006170421155729744, 0.0003175233119970128), ('local difference in CovalentRadius', -8.814887365328205e-05, 0.00031872948276734885), ('local difference in Electronegativity', 0.004231145935357472, 0.0008014602368453594), ('local difference in NsValence', 0.0023114593535749515, 0.00046189328589820664), ('local difference in NpValence', 0.002742409402546553, 0.00044668968662062695), ('local difference in NdValence', 0.0008031341821743476, 0.0002763317527848391), ('local difference in NfValence', 0.0009010773751224388, 0.00018991889745020106), ('local difference in NValence', 0.0013418217433888492, 0.00024989913461651736), ('local difference in NsUnfilled', 0.05655239960822719, 0.0016783474212256162), ('local difference in NpUnfilled', 0.001008814887365339, 0.0002719577546898133), ('local difference in NdUnfilled', 0.008227228207639548, 0.0007510397458445063), ('local difference in NfUnfilled', -0.00020568070519099145, 7.523159400459052e-05), ('local difference in NUnfilled', 0.0009402546523016753, 0.00028114985493452456), ('local difference in GSvolume_pa', 0.00013712047012732765, 0.0003721841332027465), ('local difference in GSbandgap', -0.0001077375122429003, 0.0003246931332860129), ('local difference in GSmagmom', 0.0020666013712047236, 0.0002098362907505268), ('local difference in SpaceGroupNumber', 3.917727717923647e-05, 0.00034266122790472267), ('row', 0.0036630754162585545, 0.0007305800665610443), ('column', 0.035386875612144916, 0.001628657182956583)]\n"
   ]
  },
  {
   "cell_type": "code",
   "execution_count": 10,
   "metadata": {},
   "outputs": [],
   "source": [
    "df = pd.DataFrame(feature_importances, columns=['name', 'importance', 'error'])"
   ]
  },
  {
   "cell_type": "code",
   "execution_count": 11,
   "metadata": {},
   "outputs": [
    {
     "data": {
      "text/html": [
       "<div>\n",
       "<style scoped>\n",
       "    .dataframe tbody tr th:only-of-type {\n",
       "        vertical-align: middle;\n",
       "    }\n",
       "\n",
       "    .dataframe tbody tr th {\n",
       "        vertical-align: top;\n",
       "    }\n",
       "\n",
       "    .dataframe thead th {\n",
       "        text-align: right;\n",
       "    }\n",
       "</style>\n",
       "<table border=\"1\" class=\"dataframe\">\n",
       "  <thead>\n",
       "    <tr style=\"text-align: right;\">\n",
       "      <th></th>\n",
       "      <th>name</th>\n",
       "      <th>importance</th>\n",
       "      <th>error</th>\n",
       "    </tr>\n",
       "  </thead>\n",
       "  <tbody>\n",
       "    <tr>\n",
       "      <td>0</td>\n",
       "      <td>wt CN_1</td>\n",
       "      <td>0.000460</td>\n",
       "      <td>0.000128</td>\n",
       "    </tr>\n",
       "    <tr>\n",
       "      <td>1</td>\n",
       "      <td>sgl_bd CN_1</td>\n",
       "      <td>0.000313</td>\n",
       "      <td>0.000144</td>\n",
       "    </tr>\n",
       "    <tr>\n",
       "      <td>2</td>\n",
       "      <td>wt CN_2</td>\n",
       "      <td>-0.000137</td>\n",
       "      <td>0.000264</td>\n",
       "    </tr>\n",
       "    <tr>\n",
       "      <td>3</td>\n",
       "      <td>L-shaped CN_2</td>\n",
       "      <td>0.001606</td>\n",
       "      <td>0.000313</td>\n",
       "    </tr>\n",
       "    <tr>\n",
       "      <td>4</td>\n",
       "      <td>water-like CN_2</td>\n",
       "      <td>0.000147</td>\n",
       "      <td>0.000231</td>\n",
       "    </tr>\n",
       "    <tr>\n",
       "      <td>...</td>\n",
       "      <td>...</td>\n",
       "      <td>...</td>\n",
       "      <td>...</td>\n",
       "    </tr>\n",
       "    <tr>\n",
       "      <td>80</td>\n",
       "      <td>local difference in GSbandgap</td>\n",
       "      <td>-0.000108</td>\n",
       "      <td>0.000325</td>\n",
       "    </tr>\n",
       "    <tr>\n",
       "      <td>81</td>\n",
       "      <td>local difference in GSmagmom</td>\n",
       "      <td>0.002067</td>\n",
       "      <td>0.000210</td>\n",
       "    </tr>\n",
       "    <tr>\n",
       "      <td>82</td>\n",
       "      <td>local difference in SpaceGroupNumber</td>\n",
       "      <td>0.000039</td>\n",
       "      <td>0.000343</td>\n",
       "    </tr>\n",
       "    <tr>\n",
       "      <td>83</td>\n",
       "      <td>row</td>\n",
       "      <td>0.003663</td>\n",
       "      <td>0.000731</td>\n",
       "    </tr>\n",
       "    <tr>\n",
       "      <td>84</td>\n",
       "      <td>column</td>\n",
       "      <td>0.035387</td>\n",
       "      <td>0.001629</td>\n",
       "    </tr>\n",
       "  </tbody>\n",
       "</table>\n",
       "<p>85 rows × 3 columns</p>\n",
       "</div>"
      ],
      "text/plain": [
       "                                    name  importance     error\n",
       "0                                wt CN_1    0.000460  0.000128\n",
       "1                            sgl_bd CN_1    0.000313  0.000144\n",
       "2                                wt CN_2   -0.000137  0.000264\n",
       "3                          L-shaped CN_2    0.001606  0.000313\n",
       "4                        water-like CN_2    0.000147  0.000231\n",
       "..                                   ...         ...       ...\n",
       "80         local difference in GSbandgap   -0.000108  0.000325\n",
       "81          local difference in GSmagmom    0.002067  0.000210\n",
       "82  local difference in SpaceGroupNumber    0.000039  0.000343\n",
       "83                                   row    0.003663  0.000731\n",
       "84                                column    0.035387  0.001629\n",
       "\n",
       "[85 rows x 3 columns]"
      ]
     },
     "execution_count": 11,
     "metadata": {},
     "output_type": "execute_result"
    }
   ],
   "source": [
    "df"
   ]
  },
  {
   "cell_type": "code",
   "execution_count": 21,
   "metadata": {},
   "outputs": [
    {
     "data": {
      "image/png": "[encoded data removed]",
      "text/plain": [
       "<Figure size 432x576 with 1 Axes>"
      ]
     },
     "metadata": {
      "needs_background": "light"
     },
     "output_type": "display_data"
    }
   ],
   "source": [
    "plt.figure(figsize=(6,8))\n",
    "df.sort_values(by='importance', inplace=True, ascending=False)\n",
    "plt.barh(df['name'].values[:15], df['importance'].values[:15], xerr=df['error'].values[:15])\n",
    "plt.savefig('permutation_feature_importance.png', bbox_inches=\"tight\")"
   ]
  },
  {
   "cell_type": "code",
   "execution_count": null,
   "metadata": {},
   "outputs": [],
   "source": []
  }
 ],
 "metadata": {
  "kernelspec": {
   "display_name": "Python [conda env:ml] *",
   "language": "python",
   "name": "conda-env-ml-py"
  },
  "language_info": {
   "codemirror_mode": {
    "name": "ipython",
    "version": 3
   },
   "file_extension": ".py",
   "mimetype": "text/x-python",
   "name": "python",
   "nbconvert_exporter": "python",
   "pygments_lexer": "ipython3",
   "version": "3.7.4"
  }
 },
 "nbformat": 4,
 "nbformat_minor": 2
}
